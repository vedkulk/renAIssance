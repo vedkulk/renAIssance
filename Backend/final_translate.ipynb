{
 "cells": [
  {
   "cell_type": "code",
   "execution_count": 5,
   "metadata": {},
   "outputs": [],
   "source": [
    "import os\n",
    "from dotenv import load_dotenv\n",
    "import requests\n",
    "from gtts import gTTS\n",
    "import playsound\n",
    "import pyttsx3\n",
    "\n",
    "# Load environment variables\n",
    "load_dotenv()\n",
    "\n",
    "WORQHAT_API_KEY = os.getenv(\"WORQHAT_API_KEY\")\n",
    "\n",
    "def translate_text(input_text, target_language, model_name=\"aicon-v4-nano-160824\"):\n",
    "    \"\"\"\n",
    "    Translate input text to the target language using WorqHat's API.\n",
    "\n",
    "    Args:\n",
    "        input_text (str): Text to be translated.\n",
    "        target_language (str): Target language (e.g., english, hindi, french).\n",
    "        model_name (str): Model to use for translation.\n",
    "\n",
    "    Returns:\n",
    "        str: Translated text or an error message.\n",
    "    \"\"\"\n",
    "    try:\n",
    "        response = requests.post(\n",
    "            \"https://api.worqhat.com/api/ai/content/v4\", #url for api_end_point\n",
    "            headers={\"Authorization\": f\"Bearer {WORQHAT_API_KEY}\"}, #authorisation of api\n",
    "            json={\n",
    "                \"question\": f\"Translate this text to {target_language}: {input_text}\", \n",
    "                \"model\": model_name,\n",
    "            },\n",
    "        )\n",
    "        response_data = response.json()\n",
    "        if response.status_code == 200:\n",
    "            # Extract and return only the content\n",
    "            return response_data.get(\"content\", \"Translation not available.\")\n",
    "        else:\n",
    "            return f\"Error {response.status_code}: {response.text}\"\n",
    "    except Exception as e:\n",
    "        return f\"An exception occurred: {e}\"\n"
   ]
  },
  {
   "cell_type": "code",
   "execution_count": 6,
   "metadata": {},
   "outputs": [
    {
     "name": "stdout",
     "output_type": "stream",
     "text": [
      "\n",
      "Translated Text:\n",
      "\"Bonne nuit. Dors bien.\"\n",
      "Speech played successfully.\n"
     ]
    }
   ],
   "source": [
    "def extract_translated_text(phrase):\n",
    "    \"\"\"\n",
    "    Extracts the translated text part from the returned translation.\n",
    "    Assumes that the translated text is in the format: \"Translate this text to <language>: <translated_text>\"\n",
    "    If the format doesn't match, it will try to return the whole text as the translated text.\n",
    "    \"\"\"\n",
    "    try:\n",
    "        if ':' in phrase:\n",
    "            return phrase.split(\":\", 1)[1].strip()\n",
    "        else:\n",
    "            return phrase.strip()  # If no colon, return the whole phrase as translated text\n",
    "    except Exception as e:\n",
    "        return f\"An exception occurred during text extraction: {e}\"\n",
    "\n",
    "\n",
    "\n",
    "def translated_text_to_speech(translated_text):\n",
    "    \"\"\"\n",
    "    Convert translated text to speech using pyttsx3 and play it immediately.\n",
    "    \"\"\"\n",
    "    try:\n",
    "        engine = pyttsx3.init()\n",
    "\n",
    "        # Set properties (optional)\n",
    "        engine.setProperty('rate', 150)  # Speed of speech (normal rate)\n",
    "        engine.setProperty('volume', 1)  # Volume (0.0 to 1.0)\n",
    "\n",
    "        # Play the speech directly\n",
    "        engine.say(translated_text)\n",
    "        engine.runAndWait()\n",
    "\n",
    "        return \"Speech played successfully.\"\n",
    "    except Exception as e:\n",
    "        return f\"An exception occurred: {e}\"\n",
    "\n",
    "if __name__ == \"__main__\":\n",
    "    input_text = input(\"Enter the text you want to translate: \")\n",
    "    target_language = input(\"Enter the target language (e.g., english, hindi, french): \")\n",
    "\n",
    "    # Call the translation function\n",
    "    translated_text = translate_text(input_text, target_language)\n",
    "    \n",
    "    # Extract the actual translated text after the colon\n",
    "    translated_part = extract_translated_text(translated_text)\n",
    "    \n",
    "    # Display the translated text\n",
    "    print(\"\\nTranslated Text:\")\n",
    "    print(translated_part)\n",
    "\n",
    "    # Convert the translated text to speech\n",
    "    result = translated_text_to_speech(translated_part)\n",
    "    print(result)"
   ]
  }
 ],
 "metadata": {
  "kernelspec": {
   "display_name": "Python 3",
   "language": "python",
   "name": "python3"
  },
  "language_info": {
   "codemirror_mode": {
    "name": "ipython",
    "version": 3
   },
   "file_extension": ".py",
   "mimetype": "text/x-python",
   "name": "python",
   "nbconvert_exporter": "python",
   "pygments_lexer": "ipython3",
   "version": "3.12.2 (v3.12.2:6abddd9f6a, Feb  6 2024, 17:02:06) [Clang 13.0.0 (clang-1300.0.29.30)]"
  },
  "vscode": {
   "interpreter": {
    "hash": "aee8b7b246df8f9039afb4144a1f6fd8d2ca17a180786b69acc140d282b71a49"
   }
  }
 },
 "nbformat": 4,
 "nbformat_minor": 2
}
