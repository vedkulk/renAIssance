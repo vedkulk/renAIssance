{
 "cells": [
  {
   "cell_type": "code",
   "execution_count": 2,
   "metadata": {},
   "outputs": [
    {
     "name": "stdout",
     "output_type": "stream",
     "text": [
      "\n",
      "Translated Text:\n",
      "Okay, I can translate \"hello there\" to Spanish.\n",
      "\n",
      "The Spanish translation of \"hello there\" is:\n",
      "\n",
      "\"Hola.\"\n",
      "\n",
      "While \"Hola\" is a general greeting like \"hello\", adding \"there\" doesn't have a direct equivalent in Spanish. You can say \"Hola\" on its own and it works perfectly.\n",
      "\n",
      "Is there anything else I can help you with today?\n",
      "\n"
     ]
    }
   ],
   "source": [
    "import os\n",
    "from dotenv import load_dotenv\n",
    "import requests\n",
    "\n",
    "# Load environment variables\n",
    "load_dotenv()\n",
    "\n",
    "WORQHAT_API_KEY = os.getenv(\"WORQHAT_API_KEY\")\n",
    "\n",
    "def translate_text(input_text, target_language, model_name=\"aicon-v4-nano-160824\"):\n",
    "    \"\"\"\n",
    "    Translate input text to the target language using WorqHat's API.\n",
    "\n",
    "    Args:\n",
    "        input_text (str): Text to be translated.\n",
    "        target_language (str): Target language (e.g., english, hindi, french).\n",
    "        model_name (str): Model to use for translation.\n",
    "\n",
    "    Returns:\n",
    "        str: Translated text or an error message.\n",
    "    \"\"\"\n",
    "    try:\n",
    "        response = requests.post(\n",
    "            \"https://api.worqhat.com/api/ai/content/v4\",\n",
    "            headers={\"Authorization\": f\"Bearer {WORQHAT_API_KEY}\"},\n",
    "            json={\n",
    "                \"question\": f\"Translate this text to {target_language}: {input_text}\",\n",
    "                \"model\": model_name,\n",
    "            },\n",
    "        )\n",
    "        response_data = response.json()\n",
    "        if response.status_code == 200:\n",
    "            # Extract and return only the content\n",
    "            return response_data.get(\"content\", \"Translation not available.\")\n",
    "        else:\n",
    "            return f\"Error {response.status_code}: {response.text}\"\n",
    "    except Exception as e:\n",
    "        return f\"An exception occurred: {e}\"\n",
    "\n",
    "        \n",
    "if __name__ == \"__main__\":\n",
    "    \n",
    "    input_text = input(\"Enter the text you want to translate: \")\n",
    "    target_language = input(\"Enter the target language (e.g., english, hindi, french): \")\n",
    "\n",
    "    # Call the translation function\n",
    "    translated_text = translate_text(input_text, target_language)\n",
    "    \n",
    "    # Display the result\n",
    "    print(\"\\nTranslated Text:\")\n",
    "    print(translated_text)\n"
   ]
  }
 ],
 "metadata": {
  "kernelspec": {
   "display_name": "Python 3",
   "language": "python",
   "name": "python3"
  },
  "language_info": {
   "codemirror_mode": {
    "name": "ipython",
    "version": 3
   },
   "file_extension": ".py",
   "mimetype": "text/x-python",
   "name": "python",
   "nbconvert_exporter": "python",
   "pygments_lexer": "ipython3",
   "version": "3.12.2"
  },
  "vscode": {
   "interpreter": {
    "hash": "aee8b7b246df8f9039afb4144a1f6fd8d2ca17a180786b69acc140d282b71a49"
   }
  }
 },
 "nbformat": 4,
 "nbformat_minor": 2
}
